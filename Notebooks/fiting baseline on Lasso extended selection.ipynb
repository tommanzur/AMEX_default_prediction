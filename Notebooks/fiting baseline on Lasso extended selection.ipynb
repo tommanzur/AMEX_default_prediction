{
 "cells": [
  {
   "cell_type": "code",
   "execution_count": 1,
   "metadata": {},
   "outputs": [],
   "source": [
    "import numpy as np\n",
    "import pandas as pd\n",
    "from sklearn.model_selection import train_test_split\n",
    "from sklearn.preprocessing import OrdinalEncoder\n",
    "\n",
    "import gc"
   ]
  },
  {
   "cell_type": "code",
   "execution_count": 2,
   "metadata": {},
   "outputs": [],
   "source": [
    "df = pd.read_csv('/Users/usuario/workspace/AMEX_data/train_data_LASSO2_transformed.csv')"
   ]
  },
  {
   "cell_type": "code",
   "execution_count": 4,
   "metadata": {},
   "outputs": [
    {
     "name": "stdout",
     "output_type": "stream",
     "text": [
      "CPU times: user 2.49 s, sys: 1.52 s, total: 4.01 s\n",
      "Wall time: 5.96 s\n"
     ]
    }
   ],
   "source": [
    "%%time\n",
    "# Conservamos el último registro de cada usuario\n",
    "df =  (df\n",
    "            .groupby('Unnamed: 0')\n",
    "            .tail(1)\n",
    "            .set_index('Unnamed: 0', drop=True)\n",
    "            .sort_index())"
   ]
  },
  {
   "cell_type": "code",
   "execution_count": 5,
   "metadata": {},
   "outputs": [],
   "source": [
    "all_cols = df.columns.to_list()\n",
    "\n",
    "cat_cols = [cname for cname in df.columns if df[cname].nunique() < 10 and \n",
    "                        df[cname].dtype == \"object\"]\n",
    "\n",
    "num_cols = [col for col in all_cols if col not in cat_cols + [\"target\"]]"
   ]
  },
  {
   "cell_type": "code",
   "execution_count": 6,
   "metadata": {},
   "outputs": [
    {
     "data": {
      "text/plain": [
       "((456647, 118), (456647,))"
      ]
     },
     "execution_count": 6,
     "metadata": {},
     "output_type": "execute_result"
    }
   ],
   "source": [
    "X = df[cat_cols + num_cols]\n",
    "y = df['target']\n",
    "\n",
    "X.shape, y.shape"
   ]
  },
  {
   "cell_type": "markdown",
   "metadata": {},
   "source": [
    "# Construimos las linea de base"
   ]
  },
  {
   "cell_type": "markdown",
   "metadata": {},
   "source": [
    "## Partimos el conjunto de datos en train y test"
   ]
  },
  {
   "cell_type": "code",
   "execution_count": 7,
   "metadata": {},
   "outputs": [],
   "source": [
    "X_train, X_test, y_train, y_test = train_test_split(X, y, test_size=0.25, stratify=y)"
   ]
  },
  {
   "cell_type": "markdown",
   "metadata": {},
   "source": [
    "## Construimos el pipeline completo en tres pasos.\n",
    "\n",
    "* Paso 1: definimos los pasos de preprocesamiento\n",
    "De manera similar a el pipeline agrupa los pasos de preprocesamiento y modelado, usamos la clase ColumnTransformer para agrupar diferentes pasos de preprocesamiento. "
   ]
  },
  {
   "cell_type": "code",
   "execution_count": 8,
   "metadata": {},
   "outputs": [],
   "source": [
    "from sklearn.compose import ColumnTransformer\n",
    "from sklearn.pipeline import Pipeline\n",
    "from sklearn.model_selection import RandomizedSearchCV\n",
    "from sklearn.impute import SimpleImputer\n",
    "from sklearn.preprocessing import OneHotEncoder\n",
    "\n",
    "#El código a continuación imputa valores faltantes en datos numéricos, e\n",
    "#imputa valores faltantes y aplica una codificación one-hot a los datos categóricos.\n",
    "\n",
    "# Preprocesando la data numérica\n",
    "numerical_transformer = SimpleImputer(strategy='median')\n",
    "\n",
    "# Preprocesando la data categórica\n",
    "categorical_transformer = Pipeline(steps=[\n",
    "    ('imputer', SimpleImputer(strategy='most_frequent')),\n",
    "    ('onehot', OneHotEncoder(handle_unknown='ignore', drop='first'))\n",
    "])\n",
    "\n",
    "# Bundle preprocessing for numerical and categorical data\n",
    "preprocessor = ColumnTransformer(\n",
    "    transformers=[\n",
    "        ('num', numerical_transformer, num_cols),\n",
    "        ('cat', categorical_transformer, cat_cols)\n",
    "    ])"
   ]
  },
  {
   "cell_type": "markdown",
   "metadata": {},
   "source": [
    "* Paso 2: Definimos el modelo. En este caso para la linea de base utilizaremos una regresión logística"
   ]
  },
  {
   "cell_type": "code",
   "execution_count": 9,
   "metadata": {},
   "outputs": [],
   "source": [
    "from sklearn.linear_model import LogisticRegression\n",
    "semilla = 1234\n",
    "model = LogisticRegression(random_state=semilla, max_iter=200, solver=\"saga\")"
   ]
  },
  {
   "cell_type": "markdown",
   "metadata": {},
   "source": [
    "* Paso 3: crear y evaluar el pipeline\n",
    "Finalmente, usamos la clase Pipeline para definir un pipeline que agrupa los pasos de preprocesamiento y modelado. Hay algunas cosas importantes a tener en cuenta:\n",
    "\n",
    "Con el pipeline, preprocesamos los datos de entrenamiento y ajustamos el modelo en una sola línea de código. (Por el contrario, sin un pipeline, tendríamos que hacer la imputación, la codificación one-hot y el entrenamiento del modelo en pasos separados.\n",
    "\n",
    "Con el pipeline proporcionamos las funciones no procesadas en X_test al comando predict(), y el pipeline preprocesa automáticamente las funciones antes de generar predicciones. (Sin embargo, sin el pipeline, debemos recordar preprocesar los datos de validación antes de hacer predicciones)."
   ]
  },
  {
   "cell_type": "code",
   "execution_count": 10,
   "metadata": {},
   "outputs": [
    {
     "name": "stderr",
     "output_type": "stream",
     "text": [
      "/opt/anaconda3/lib/python3.8/site-packages/sklearn/linear_model/_sag.py:350: ConvergenceWarning: The max_iter was reached which means the coef_ did not converge\n",
      "  warnings.warn(\n"
     ]
    }
   ],
   "source": [
    "# Paquete de preprocesamiento y código de modelado\n",
    "my_pipeline = Pipeline(steps=[('preprocessor', preprocessor),\n",
    "                              ('classifier', model)\n",
    "                             ])\n",
    "\n",
    "# Preprocesamiento de datos de entrenamiento, ajuste del modelo\n",
    "my_pipeline.fit(X_train, y_train)\n",
    "\n",
    "# Preprocesamiento de datos de validación, obtener predicciones\n",
    "preds = my_pipeline.predict(X_test)"
   ]
  },
  {
   "cell_type": "code",
   "execution_count": 11,
   "metadata": {},
   "outputs": [
    {
     "name": "stdout",
     "output_type": "stream",
     "text": [
      "[[81240  3337]\n",
      " [11524 18061]]\n",
      "El accuracy score para el modelo base es: 0.8698253359261401\n"
     ]
    }
   ],
   "source": [
    "from sklearn.metrics import confusion_matrix, accuracy_score\n",
    "cm = confusion_matrix(y_test,preds)\n",
    "print(cm)\n",
    "print(f'El accuracy score para el modelo base es: {accuracy_score(y_test, preds)}')"
   ]
  },
  {
   "cell_type": "code",
   "execution_count": 17,
   "metadata": {},
   "outputs": [
    {
     "data": {
      "text/plain": [
       "<matplotlib.axes._subplots.AxesSubplot at 0x12adfd0d0>"
      ]
     },
     "execution_count": 17,
     "metadata": {},
     "output_type": "execute_result"
    },
    {
     "data": {
      "image/png": "[encoded data removed]",
      "text/plain": [
       "<Figure size 432x288 with 2 Axes>"
      ]
     },
     "metadata": {
      "needs_background": "light"
     },
     "output_type": "display_data"
    }
   ],
   "source": [
    "import seaborn as sns\n",
    "cm_matrix = pd.DataFrame(data=cm, columns=['Actual Negative', 'Actual Positive'], \n",
    "                        index=['Predict Negative', 'Predict Positive'])\n",
    "\n",
    "sns.heatmap(cm_matrix, annot=True, fmt='d', cmap='YlGnBu')"
   ]
  },
  {
   "cell_type": "code",
   "execution_count": 18,
   "metadata": {},
   "outputs": [
    {
     "name": "stdout",
     "output_type": "stream",
     "text": [
      "              precision    recall  f1-score   support\n",
      "\n",
      "           0       0.88      0.96      0.92     84577\n",
      "           1       0.84      0.61      0.71     29585\n",
      "\n",
      "    accuracy                           0.87    114162\n",
      "   macro avg       0.86      0.79      0.81    114162\n",
      "weighted avg       0.87      0.87      0.86    114162\n",
      "\n"
     ]
    }
   ],
   "source": [
    "from sklearn.metrics import classification_report\n",
    "print(classification_report(y_test, preds))"
   ]
  },
  {
   "cell_type": "markdown",
   "metadata": {},
   "source": [
    "## Probamos otros modelos\n",
    "Probaremos una serie de modelos con sus parametros por defecto, sin tuning:\n",
    "\n",
    "* Decision tree: un árbol de decisión.\n",
    "\n",
    "* Extra trees: Un clasificador de árboles adicionales. Esta clase implementa un meta estimador que se ajusta a una serie de árboles de decisión aleatorios en varias submuestras del conjunto de datos, y utiliza el promedio para mejorar la precisión predictiva y controlar el ajuste excesivo.\n",
    "\n",
    "* Random Forest: Un Random Forest es un conjunto (ensemble) de árboles de decisión combinados con bagging. Es una combinación de árboles predictores tal que cada árbol depende de los valores de un vector aleatorio probado independientemente y con la misma distribución para cada uno de estos.\n",
    "\n",
    "* AdaBoost: consiste en crear varios predictores sencillos en secuencia, de tal manera que el segundo ajuste bien lo que el primero no ajustó, que el tercero ajuste un poco mejor lo que el segundo no pudo ajustar y así sucesivamente.\n",
    "\n",
    "* GradientBoosting: es una técnica de aprendizaje automático utilizado para el análisis de la regresión y para problemas de clasificación estadística, el cual produce un modelo predictivo en forma de un conjunto de modelos de predicción débiles, típicamente árboles de decisión. Construye el modelo de forma escalonada como lo hacen otros métodos de boosting, y los generaliza permitiendo la optimización arbitraria de una función de pérdida diferenciable.\n",
    "\n"
   ]
  },
  {
   "cell_type": "code",
   "execution_count": 19,
   "metadata": {},
   "outputs": [],
   "source": [
    "from sklearn.ensemble import RandomForestClassifier, ExtraTreesClassifier, AdaBoostClassifier, GradientBoostingClassifier\n",
    "from sklearn.tree import DecisionTreeClassifier\n",
    "from sklearn.datasets import fetch_openml\n",
    "import numpy as np\n",
    "from matplotlib import pyplot as plt\n",
    "from sklearn.metrics import f1_score, precision_score, recall_score"
   ]
  },
  {
   "cell_type": "code",
   "execution_count": 20,
   "metadata": {},
   "outputs": [],
   "source": [
    "clasificador_tree_ = DecisionTreeClassifier(random_state=semilla)\n",
    "clasificador_random_forest = RandomForestClassifier(n_estimators=100, random_state=semilla)\n",
    "clasificador_extra_trees = ExtraTreesClassifier(n_estimators=100, random_state=semilla)\n",
    "clasificador_adaboost = AdaBoostClassifier(random_state=semilla)\n",
    "clasificador_gradientboost = GradientBoostingClassifier(random_state=semilla)"
   ]
  },
  {
   "cell_type": "code",
   "execution_count": 21,
   "metadata": {},
   "outputs": [],
   "source": [
    "clasificadores = [clasificador_tree_, clasificador_random_forest, clasificador_extra_trees, \n",
    "                clasificador_adaboost, clasificador_gradientboost]"
   ]
  },
  {
   "cell_type": "code",
   "execution_count": 22,
   "metadata": {},
   "outputs": [
    {
     "name": "stdout",
     "output_type": "stream",
     "text": [
      "Entrenando el modelo DecisionTreeClassifier(random_state=1234)\n",
      "              precision    recall  f1-score   support\n",
      "\n",
      "           0       0.89      0.89      0.89     84577\n",
      "           1       0.70      0.70      0.70     29585\n",
      "\n",
      "    accuracy                           0.84    114162\n",
      "   macro avg       0.80      0.80      0.80    114162\n",
      "weighted avg       0.84      0.84      0.84    114162\n",
      "\n",
      "\n",
      "Matriz de confusión:\n",
      "\n",
      "[[75641  8936]\n",
      " [ 8878 20707]]\n",
      "\n",
      "\n",
      "Entrenando el modelo RandomForestClassifier(random_state=1234)\n",
      "              precision    recall  f1-score   support\n",
      "\n",
      "           0       0.93      0.93      0.93     84577\n",
      "           1       0.80      0.79      0.79     29585\n",
      "\n",
      "    accuracy                           0.89    114162\n",
      "   macro avg       0.86      0.86      0.86    114162\n",
      "weighted avg       0.89      0.89      0.89    114162\n",
      "\n",
      "\n",
      "Matriz de confusión:\n",
      "\n",
      "[[78762  5815]\n",
      " [ 6325 23260]]\n",
      "\n",
      "\n",
      "Entrenando el modelo ExtraTreesClassifier(random_state=1234)\n",
      "              precision    recall  f1-score   support\n",
      "\n",
      "           0       0.92      0.93      0.93     84577\n",
      "           1       0.80      0.78      0.79     29585\n",
      "\n",
      "    accuracy                           0.89    114162\n",
      "   macro avg       0.86      0.86      0.86    114162\n",
      "weighted avg       0.89      0.89      0.89    114162\n",
      "\n",
      "\n",
      "Matriz de confusión:\n",
      "\n",
      "[[78942  5635]\n",
      " [ 6585 23000]]\n",
      "\n",
      "\n",
      "Entrenando el modelo AdaBoostClassifier(random_state=1234)\n",
      "              precision    recall  f1-score   support\n",
      "\n",
      "           0       0.92      0.93      0.93     84577\n",
      "           1       0.80      0.76      0.78     29585\n",
      "\n",
      "    accuracy                           0.89    114162\n",
      "   macro avg       0.86      0.85      0.85    114162\n",
      "weighted avg       0.89      0.89      0.89    114162\n",
      "\n",
      "\n",
      "Matriz de confusión:\n",
      "\n",
      "[[78866  5711]\n",
      " [ 6974 22611]]\n",
      "\n",
      "\n",
      "Entrenando el modelo GradientBoostingClassifier(random_state=1234)\n",
      "              precision    recall  f1-score   support\n",
      "\n",
      "           0       0.93      0.93      0.93     84577\n",
      "           1       0.80      0.80      0.80     29585\n",
      "\n",
      "    accuracy                           0.90    114162\n",
      "   macro avg       0.86      0.86      0.86    114162\n",
      "weighted avg       0.90      0.90      0.90    114162\n",
      "\n",
      "\n",
      "Matriz de confusión:\n",
      "\n",
      "[[78630  5947]\n",
      " [ 5972 23613]]\n",
      "\n",
      "\n",
      "CPU times: user 56min 6s, sys: 59.3 s, total: 57min 5s\n",
      "Wall time: 1h 1min 6s\n"
     ]
    }
   ],
   "source": [
    "%%time\n",
    "for clasificador in clasificadores:\n",
    "    print(f'Entrenando el modelo {clasificador}')\n",
    "    my_pipeline = Pipeline(steps=[('preprocessor', preprocessor),\n",
    "                              ('classifier', clasificador)\n",
    "                              ])\n",
    "\n",
    "    # Preprocesamiento de datos de entrenamiento, ajuste del modelo\n",
    "    my_pipeline.fit(X_train, y_train)\n",
    "    # Preprocesamiento de datos de validación, obtener predicciones\n",
    "    preds = my_pipeline.predict(X_test)\n",
    "    # Calculamos la matriz de confusión\n",
    "    cmx = confusion_matrix(y_test,preds)\n",
    "    # Mostramos las métricas de evaluación\n",
    "    print(classification_report(y_test, preds)+'\\n')\n",
    "    print('Matriz de confusión:\\n') \n",
    "    print(cmx)\n",
    "    print('\\n') "
   ]
  }
 ],
 "metadata": {
  "kernelspec": {
   "display_name": "Python 3.8.3 ('base')",
   "language": "python",
   "name": "python3"
  },
  "language_info": {
   "codemirror_mode": {
    "name": "ipython",
    "version": 3
   },
   "file_extension": ".py",
   "mimetype": "text/x-python",
   "name": "python",
   "nbconvert_exporter": "python",
   "pygments_lexer": "ipython3",
   "version": "3.8.3"
  },
  "orig_nbformat": 4,
  "vscode": {
   "interpreter": {
    "hash": "40d3a090f54c6569ab1632332b64b2c03c39dcf918b08424e98f38b5ae0af88f"
   }
  }
 },
 "nbformat": 4,
 "nbformat_minor": 2
}
